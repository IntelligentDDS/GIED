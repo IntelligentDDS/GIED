{
 "cells": [
  {
   "cell_type": "code",
   "execution_count": 1,
   "metadata": {},
   "outputs": [],
   "source": [
    "from __future__ import division\n",
    "import networkx as nx\n",
    "import pickle\n",
    "import math\n",
    "import matplotlib.pyplot as plt\n",
    "import pandas as pd\n",
    "import json\n",
    "import pickle\n",
    "import datetime\n",
    "import numpy as np"
   ]
  },
  {
   "cell_type": "code",
   "execution_count": 2,
   "metadata": {},
   "outputs": [],
   "source": [
    "with open('../data/issue_topoloies.pkl', 'rb') as f:\n",
    "    Topologies = pickle.load(f)"
   ]
  },
  {
   "cell_type": "code",
   "execution_count": 3,
   "metadata": {},
   "outputs": [],
   "source": [
    "all_cases = [case for case in Topologies if case['y'] == 1 and 'root_cause' in case and case['root_cause']!='All']"
   ]
  },
  {
   "cell_type": "markdown",
   "metadata": {},
   "source": [
    "# a showpiece using the clues introduced in the paper"
   ]
  },
  {
   "cell_type": "code",
   "execution_count": 4,
   "metadata": {},
   "outputs": [],
   "source": [
    "def get_weight_from_final_fail_change(topology):\n",
    "    weight = {}\n",
    "    nodeList = topology['nodes']\n",
    "    # CLUES PROVIDED IN THE PAPER\n",
    "    node2info = {node:[0,0,0,0] for node in nodeList}\n",
    "    for edge in topology['edges_info']:\n",
    "        now_final_change = edge['FailCount'][-1]\n",
    "        base_final_fail = min(edge['YesterFailCount'])\n",
    "        weight[edge['src']+'-'+edge['des']] = max(now_final_change - base_final_fail, 0)\n",
    "        \n",
    "        node2info[edge['src']][0] += max(now_final_change-base_final_fail, 0)\n",
    "        node2info[edge['des']][1] = max(now_final_change - base_final_fail, node2info[edge['des']][1])\n",
    "        node2info[edge['src']][2] += 1\n",
    "        node2info[edge['src']][3] = max(now_final_change - base_final_fail, node2info[edge['src']][3])\n",
    "        \n",
    "    for node in node2info:\n",
    "        weight[node+'_self'] = max(node2info[node][1]-node2info[node][3],0)\n",
    "        weight[node+'_back_1'] = node2info[node][0]\n",
    "        weight[node+'_back_2'] = node2info[node][1]\n",
    "        \n",
    "        weight[node+'_has_no_outedge'] = (node2info[node][2] == 0)\n",
    "        \n",
    "    #print(weight)\n",
    "    return weight"
   ]
  },
  {
   "cell_type": "code",
   "execution_count": 5,
   "metadata": {},
   "outputs": [],
   "source": [
    "def get_anomaly_graph(topology, get_weight, logbase=10, backward_factor=0.3, additional_clues= None):\n",
    "    anomaly_graph = nx.DiGraph()\n",
    "    \n",
    "    nodeList = topology['nodes']\n",
    "    \n",
    "    weightCal = get_weight(topology)\n",
    "    \n",
    "    for edge in topology['edges_info']:\n",
    "        edgeSrc = edge['src']\n",
    "        edgeDes = edge['des']\n",
    "        if anomaly_graph.has_edge(edgeSrc, edgeDes):\n",
    "            anomaly_graph.add_edge(edgeSrc, edgeDes, weight = max(math.log(weightCal[edgeSrc + '-' + edgeDes] + 1, logbase), anomaly_graph.get_edge_data(edgeSrc, edgeDes)['weight']))\n",
    "        else:\n",
    "            anomaly_graph.add_edge(edgeSrc, edgeDes, weight = math.log(weightCal[edgeSrc + '-' + edgeDes] +1, logbase))\n",
    "\n",
    "        if anomaly_graph.has_edge(edgeDes, edgeSrc):\n",
    "            anomaly_graph.add_edge(edgeDes, edgeSrc, weight = max(backward_factor*math.log(max(weightCal[edgeSrc+'_back_1']-weightCal[edgeSrc + '-' + edgeDes], weightCal[edgeSrc+'_back_2']-weightCal[edgeSrc + '-' + edgeDes] if weightCal[edgeDes+'_has_no_outedge'] else 0) + 1, logbase), anomaly_graph.get_edge_data(edgeDes, edgeSrc)['weight']))\n",
    "        else:\n",
    "            anomaly_graph.add_edge(edgeDes, edgeSrc, weight = backward_factor*math.log(max(weightCal[edgeSrc+'_back_1']-weightCal[edgeSrc + '-' + edgeDes], weightCal[edgeSrc+'_back_2']-weightCal[edgeSrc + '-' + edgeDes] if weightCal[edgeDes+'_has_no_outedge'] else 0) + 1, logbase))#原来参考论文是backward_factor * weightCal[edgeSrc + '-' + edgeDes]\n",
    "        \n",
    "    for node in nodeList:\n",
    "        if anomaly_graph.has_edge(node, node):\n",
    "            anomaly_graph.add_edge(node, node, weight = max(math.log(weightCal[node+'_self'] + 1, logbase), anomaly_graph.get_edge_data(node, node)['weight']))\n",
    "        else:\n",
    "            anomaly_graph.add_edge(node, node, weight = math.log(weightCal[node+'_self'] + 1, logbase))\n",
    "            \n",
    "    if additional_clues is not None:\n",
    "        for pair in additional_clues:\n",
    "            if anomaly_graph.has_edge(pair[0], pair[1]):\n",
    "                anomaly_graph.add_edge(pair[0], pair[1], weight = max(math.log(additional_clues[pair] + 1, logbase), anomaly_graph.get_edge_data(pair[0], pair[1])['weight']))\n",
    "            else:\n",
    "                anomaly_graph.add_edge(pair[0], pair[1], weight = math.log(additional_clues[pair] + 1, logbase))\n",
    "\n",
    "    return anomaly_graph"
   ]
  },
  {
   "cell_type": "code",
   "execution_count": 6,
   "metadata": {},
   "outputs": [],
   "source": [
    "for case in all_cases:\n",
    "    anomalyGraph = get_anomaly_graph(case, get_weight_from_final_fail_change, logbase = 10, backward_factor = 0.3)\n",
    "    \n",
    "    anomaly_score = nx.pagerank(anomalyGraph)#, personalization = personalization)\n",
    "    anomaly_score_sorted = sorted(anomaly_score.items(), key=lambda x: x[1], reverse=True)\n",
    "    \n",
    "    case['pred'] = anomaly_score_sorted[0][0]"
   ]
  },
  {
   "cell_type": "code",
   "execution_count": 7,
   "metadata": {},
   "outputs": [],
   "source": [
    "for case in all_cases:\n",
    "    case['right'] = case['pred']==case['root_cause']"
   ]
  },
  {
   "cell_type": "code",
   "execution_count": 8,
   "metadata": {},
   "outputs": [
    {
     "data": {
      "text/plain": [
       "True     376\n",
       "False     26\n",
       "dtype: int64"
      ]
     },
     "execution_count": 8,
     "metadata": {},
     "output_type": "execute_result"
    }
   ],
   "source": [
    "pd.Series([case['right'] for case in all_cases]).value_counts()"
   ]
  },
  {
   "cell_type": "code",
   "execution_count": 9,
   "metadata": {},
   "outputs": [
    {
     "data": {
      "text/plain": [
       "0.9353233830845771"
      ]
     },
     "execution_count": 9,
     "metadata": {},
     "output_type": "execute_result"
    }
   ],
   "source": [
    "376/(376+26)"
   ]
  },
  {
   "cell_type": "code",
   "execution_count": null,
   "metadata": {},
   "outputs": [],
   "source": []
  }
 ],
 "metadata": {
  "kernelspec": {
   "display_name": "Python 3",
   "language": "python",
   "name": "python3"
  },
  "language_info": {
   "codemirror_mode": {
    "name": "ipython",
    "version": 3
   },
   "file_extension": ".py",
   "mimetype": "text/x-python",
   "name": "python",
   "nbconvert_exporter": "python",
   "pygments_lexer": "ipython3",
   "version": "3.7.6"
  }
 },
 "nbformat": 4,
 "nbformat_minor": 4
}
