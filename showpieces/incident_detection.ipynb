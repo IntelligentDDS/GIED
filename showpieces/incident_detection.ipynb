{
 "cells": [
  {
   "cell_type": "code",
   "execution_count": 1,
   "metadata": {},
   "outputs": [],
   "source": [
    "import pickle\n",
    "import pandas as pd\n",
    "import numpy as np\n",
    "from torch_geometric.data import Data, DataLoader\n",
    "import torch\n",
    "from SpatioDevNetPackage import callSpatioDevNet\n",
    "from sklearn.metrics import roc_auc_score\n",
    "from sklearn.metrics import average_precision_score\n",
    "from sklearn.metrics import precision_recall_fscore_support\n",
    "from sklearn.preprocessing import StandardScaler\n",
    "import copy\n",
    "import random"
   ]
  },
  {
   "cell_type": "code",
   "execution_count": 2,
   "metadata": {},
   "outputs": [],
   "source": [
    "with open('../data/train_cases.pkl', 'rb') as f:\n",
    "    train_cases = pickle.load(f)"
   ]
  },
  {
   "cell_type": "code",
   "execution_count": 3,
   "metadata": {},
   "outputs": [],
   "source": [
    "with open('../data/test_cases.pkl', 'rb') as f:\n",
    "    test_cases = pickle.load(f)"
   ]
  },
  {
   "cell_type": "code",
   "execution_count": 4,
   "metadata": {},
   "outputs": [],
   "source": [
    "trainlist = [Data(x=torch.tensor(item['x'], dtype=torch.float), \n",
    "            edge_index=torch.tensor(item['bi_edge_index'], dtype=torch.long).t().contiguous(),\n",
    "            y=torch.tensor([[1 if item['y'] == 1 else 0]], dtype = torch.float),\n",
    "            edge_attr=torch.tensor(item['bi_edge_fea'], dtype = torch.float),\n",
    "            global_x = torch.tensor(item['global_fea'], dtype = torch.float).unsqueeze(0)) for item in train_cases]"
   ]
  },
  {
   "cell_type": "code",
   "execution_count": 5,
   "metadata": {},
   "outputs": [],
   "source": [
    "testlist = [Data(x=torch.tensor(item['x'], dtype=torch.float), \n",
    "            edge_index=torch.tensor(item['bi_edge_index'], dtype=torch.long).t().contiguous(),\n",
    "            y=torch.tensor([[1 if item['y'] == 1 else 0]], dtype = torch.float),\n",
    "            edge_attr=torch.tensor(item['bi_edge_fea'], dtype = torch.float),\n",
    "            global_x = torch.tensor(item['global_fea'], dtype = torch.float).unsqueeze(0)) for item in test_cases]"
   ]
  },
  {
   "cell_type": "code",
   "execution_count": 6,
   "metadata": {},
   "outputs": [],
   "source": [
    "train_labels = [int(item.y) for item in trainlist]"
   ]
  },
  {
   "cell_type": "code",
   "execution_count": 7,
   "metadata": {},
   "outputs": [],
   "source": [
    "test_labels = [int(item.y) for item in testlist]"
   ]
  },
  {
   "cell_type": "code",
   "execution_count": 8,
   "metadata": {},
   "outputs": [
    {
     "data": {
      "text/plain": [
       "0    2749\n",
       "1     311\n",
       "dtype: int64"
      ]
     },
     "execution_count": 8,
     "metadata": {},
     "output_type": "execute_result"
    }
   ],
   "source": [
    "pd.Series(train_labels).value_counts()"
   ]
  },
  {
   "cell_type": "code",
   "execution_count": 9,
   "metadata": {},
   "outputs": [
    {
     "data": {
      "text/plain": [
       "0    2745\n",
       "1     315\n",
       "dtype: int64"
      ]
     },
     "execution_count": 9,
     "metadata": {},
     "output_type": "execute_result"
    }
   ],
   "source": [
    "pd.Series(test_labels).value_counts()"
   ]
  },
  {
   "cell_type": "code",
   "execution_count": 10,
   "metadata": {},
   "outputs": [
    {
     "data": {
      "text/plain": [
       "Data(x=[2, 14], edge_index=[2, 2], edge_attr=[2, 7], y=[1, 1], global_x=[1, 4])"
      ]
     },
     "execution_count": 10,
     "metadata": {},
     "output_type": "execute_result"
    }
   ],
   "source": [
    "trainlist[0]"
   ]
  },
  {
   "cell_type": "code",
   "execution_count": 11,
   "metadata": {},
   "outputs": [],
   "source": [
    "INPUT_DIM = trainlist[0].x.shape[1]\n",
    "HIDDEN_DIM = 20\n",
    "EDGE_ATTR_LEN = trainlist[0].edge_attr.shape[1]\n",
    "GLOBAL_FEA_LEN = trainlist[0].global_x.shape[1]"
   ]
  },
  {
   "cell_type": "code",
   "execution_count": null,
   "metadata": {},
   "outputs": [],
   "source": []
  },
  {
   "cell_type": "code",
   "execution_count": 12,
   "metadata": {},
   "outputs": [],
   "source": [
    "torch.set_num_threads(1)"
   ]
  },
  {
   "cell_type": "code",
   "execution_count": 13,
   "metadata": {},
   "outputs": [
    {
     "name": "stdout",
     "output_type": "stream",
     "text": [
      "Epoch [60/60], Iter [90/96], total_loss: 0.1248\n"
     ]
    },
    {
     "data": {
      "image/png": "[encoded data removed]",
      "text/plain": [
       "<Figure size 1200x600 with 1 Axes>"
      ]
     },
     "metadata": {},
     "output_type": "display_data"
    },
    {
     "name": "stderr",
     "output_type": "stream",
     "text": [
      "\n",
      "100%|██████████| 96/96 [00:01<00:00, 55.38it/s]\u001b[A\n",
      "100%|██████████| 60/60 [01:44<00:00,  1.74s/it]\n",
      "/home/user/anaconda3/lib/python3.7/site-packages/torch_geometric/deprecation.py:12: UserWarning: 'data.DataLoader' is deprecated, use 'loader.DataLoader' instead\n",
      "  warnings.warn(out)\n",
      "100%|██████████| 96/96 [00:00<00:00, 278.37it/s]\n",
      "100%|██████████| 96/96 [00:00<00:00, 284.06it/s]\n"
     ]
    },
    {
     "name": "stdout",
     "output_type": "stream",
     "text": [
      "(0.9863481228668942, 0.9292604501607717, 0.9569536423841061, None) [0.06028944]\n"
     ]
    }
   ],
   "source": [
    "def bf_search(labels, scores):\n",
    "    \"\"\"\n",
    "    Find the a good threshold using the training set\n",
    "    Returns:\n",
    "        list: list for results\n",
    "        float: the `threshold` for best-f1\n",
    "    \"\"\"\n",
    "    m = (-1., -1., -1., None)\n",
    "    m_t = 0.0\n",
    "    \n",
    "    for threshold in sorted(list(scores))[1:-1]:\n",
    "        target = precision_recall_fscore_support(labels, (scores > threshold).astype('int'), average = 'binary')\n",
    "        if target[2] > m[2]:\n",
    "            m_t = threshold\n",
    "            m = target\n",
    "    print(m, m_t)\n",
    "    return m, m_t\n",
    "\n",
    "gied_ap = []\n",
    "gied_prf = []\n",
    "for seedi in range(5):\n",
    "    NAME = 'FinalModel_OnlineBoutique'\n",
    "    LOSS = 'cross_entropy'\n",
    "    POOLING = 'attention'\n",
    "    model = callSpatioDevNet(name = NAME, input_dim = INPUT_DIM, hidden_dim = HIDDEN_DIM, edge_attr_len = EDGE_ATTR_LEN, global_fea_len = GLOBAL_FEA_LEN, num_epochs = 60, nonlinear_scorer = False, act = False, pooling = POOLING, loss_func = LOSS, lr = 1e-3, seed = seedi)\n",
    "    model.fit(trainlist, log_step = 10, valid_proportion = 0.0)\n",
    "    \n",
    "    preds, feas = model.predict(trainlist)\n",
    "    test_preds, test_feas = model.predict(testlist)\n",
    "    \n",
    "    m, m_t = bf_search(train_labels, preds)\n",
    "    \n",
    "    gied_prf.append(precision_recall_fscore_support(test_labels, (test_preds > m_t).astype('int'), average = 'binary'))\n",
    "    gied_ap.append(average_precision_score(test_labels, test_preds))"
   ]
  },
  {
   "cell_type": "code",
   "execution_count": 14,
   "metadata": {},
   "outputs": [
    {
     "data": {
      "text/plain": [
       "[(0.9930555555555556, 0.9079365079365079, 0.9485903814262022, None),\n",
       " (0.993103448275862, 0.9142857142857143, 0.9520661157024792, None),\n",
       " (0.9930555555555556, 0.9079365079365079, 0.9485903814262022, None),\n",
       " (0.9930313588850174, 0.9047619047619048, 0.946843853820598, None),\n",
       " (0.9931506849315068, 0.9206349206349206, 0.9555189456342668, None)]"
      ]
     },
     "execution_count": 14,
     "metadata": {},
     "output_type": "execute_result"
    }
   ],
   "source": [
    "gied_prf"
   ]
  },
  {
   "cell_type": "code",
   "execution_count": 15,
   "metadata": {},
   "outputs": [
    {
     "data": {
      "text/plain": [
       "0.9930793206406994"
      ]
     },
     "execution_count": 15,
     "metadata": {},
     "output_type": "execute_result"
    }
   ],
   "source": [
    "np.mean([item[0] for item in gied_prf])"
   ]
  },
  {
   "cell_type": "code",
   "execution_count": 16,
   "metadata": {},
   "outputs": [
    {
     "data": {
      "text/plain": [
       "0.9111111111111111"
      ]
     },
     "execution_count": 16,
     "metadata": {},
     "output_type": "execute_result"
    }
   ],
   "source": [
    "np.mean([item[1] for item in gied_prf])"
   ]
  },
  {
   "cell_type": "code",
   "execution_count": 17,
   "metadata": {},
   "outputs": [
    {
     "data": {
      "text/plain": [
       "0.9503219356019498"
      ]
     },
     "execution_count": 17,
     "metadata": {},
     "output_type": "execute_result"
    }
   ],
   "source": [
    "np.mean([item[2] for item in gied_prf])"
   ]
  },
  {
   "cell_type": "code",
   "execution_count": 18,
   "metadata": {},
   "outputs": [
    {
     "data": {
      "text/plain": [
       "[0.9768471308884238,\n",
       " 0.9774991376367809,\n",
       " 0.9766036523930485,\n",
       " 0.9774386520526042,\n",
       " 0.97717974960363]"
      ]
     },
     "execution_count": 18,
     "metadata": {},
     "output_type": "execute_result"
    }
   ],
   "source": [
    "gied_ap"
   ]
  },
  {
   "cell_type": "code",
   "execution_count": 19,
   "metadata": {},
   "outputs": [
    {
     "data": {
      "text/plain": [
       "0.9771136645148975"
      ]
     },
     "execution_count": 19,
     "metadata": {},
     "output_type": "execute_result"
    }
   ],
   "source": [
    "np.mean(gied_ap)"
   ]
  },
  {
   "cell_type": "code",
   "execution_count": null,
   "metadata": {},
   "outputs": [],
   "source": []
  }
 ],
 "metadata": {
  "kernelspec": {
   "display_name": "Python 3",
   "language": "python",
   "name": "python3"
  },
  "language_info": {
   "codemirror_mode": {
    "name": "ipython",
    "version": 3
   },
   "file_extension": ".py",
   "mimetype": "text/x-python",
   "name": "python",
   "nbconvert_exporter": "python",
   "pygments_lexer": "ipython3",
   "version": "3.7.6"
  }
 },
 "nbformat": 4,
 "nbformat_minor": 4
}
