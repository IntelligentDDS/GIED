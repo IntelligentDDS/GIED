{
 "cells": [
  {
   "cell_type": "code",
   "execution_count": 1,
   "metadata": {},
   "outputs": [],
   "source": [
    "import pandas as pd\n",
    "import numpy as np\n",
    "from sklearn.cluster import DBSCAN\n",
    "import matplotlib.pyplot as plt\n",
    "import networkx as nx\n",
    "import pickle\n",
    "import json"
   ]
  },
  {
   "cell_type": "code",
   "execution_count": 2,
   "metadata": {},
   "outputs": [],
   "source": [
    "with open('../data/raw_topoloies.pkl', 'rb') as f:\n",
    "    Topologies = pickle.load(f)"
   ]
  },
  {
   "cell_type": "code",
   "execution_count": 3,
   "metadata": {},
   "outputs": [
    {
     "data": {
      "text/plain": [
       "26132"
      ]
     },
     "execution_count": 3,
     "metadata": {},
     "output_type": "execute_result"
    }
   ],
   "source": [
    "len(Topologies)"
   ]
  },
  {
   "cell_type": "markdown",
   "metadata": {},
   "source": [
    "# LABEL RULE 1"
   ]
  },
  {
   "cell_type": "markdown",
   "metadata": {},
   "source": [
    "## process injected fault"
   ]
  },
  {
   "cell_type": "code",
   "execution_count": 4,
   "metadata": {},
   "outputs": [],
   "source": [
    "inject_df = pd.read_csv('../data/injected_faults.csv')"
   ]
  },
  {
   "cell_type": "code",
   "execution_count": 5,
   "metadata": {},
   "outputs": [],
   "source": [
    "for topo in Topologies:\n",
    "    topo['y'] = 0"
   ]
  },
  {
   "cell_type": "code",
   "execution_count": 6,
   "metadata": {},
   "outputs": [],
   "source": [
    "for index, inject_item in inject_df.iterrows():\n",
    "    corressponding_topo_i_s = [i for i, topo in enumerate(Topologies) if topo['time']>=inject_item['time'] and topo['time']<inject_item['time']+15]\n",
    "    if inject_item['inject_type'] == 'excessive flow':\n",
    "        MaxFail, MaxFail_ci = 0, None\n",
    "        for ci in corressponding_topo_i_s:\n",
    "            if Topologies[ci]['MaxFail'] > MaxFail:\n",
    "                MaxFail_ci = ci\n",
    "                MaxFail = Topologies[ci]['MaxFail']\n",
    "            Topologies[ci]['y'] = -1\n",
    "        if MaxFail_ci is not None:\n",
    "            Topologies[MaxFail_ci]['y'] = 1\n",
    "            Topologies[MaxFail_ci]['root_cause'] = 'All'\n",
    "            Topologies[MaxFail_ci]['root_cause_type'] = inject_item['inject_type']\n",
    "    else:\n",
    "        MaxFail, MaxFail_ci = 0, None\n",
    "        for ci in corressponding_topo_i_s:\n",
    "            if Topologies[ci]['MaxFail'] > MaxFail and inject_item['inject_serive'] in Topologies[ci]['nodes']:\n",
    "                MaxFail_ci = ci\n",
    "                MaxFail = Topologies[ci]['MaxFail']\n",
    "            Topologies[ci]['y'] = -1\n",
    "        if MaxFail_ci is not None:\n",
    "            Topologies[MaxFail_ci]['y'] = 1\n",
    "            Topologies[MaxFail_ci]['root_cause'] = inject_item['inject_serive']\n",
    "            Topologies[MaxFail_ci]['root_cause_type'] = inject_item['inject_type']"
   ]
  },
  {
   "cell_type": "markdown",
   "metadata": {},
   "source": [
    "## process platform faults"
   ]
  },
  {
   "cell_type": "code",
   "execution_count": 7,
   "metadata": {},
   "outputs": [],
   "source": [
    "platform_fault_df = pd.read_csv('../data/platform_faults.csv')"
   ]
  },
  {
   "cell_type": "code",
   "execution_count": 8,
   "metadata": {},
   "outputs": [
    {
     "name": "stdout",
     "output_type": "stream",
     "text": [
      "21304\n",
      "22570\n"
     ]
    }
   ],
   "source": [
    "for index, platform_fault in platform_fault_df.iterrows():\n",
    "    corressponding_topo_i_s = [i for i, topo in enumerate(Topologies) if pd.to_datetime(topo['TimeStamp'])>=pd.to_datetime(platform_fault['BeginTimeStamp']) and pd.to_datetime(topo['TimeStamp'])<=pd.to_datetime(platform_fault['EndTimeStamp'])]\n",
    "    MaxFail, MaxFail_ci = 0, None\n",
    "    for ci in corressponding_topo_i_s:\n",
    "        if Topologies[ci]['MaxFail'] > MaxFail and platform_fault['service'] in Topologies[ci]['nodes'] and Topologies[ci]['y']!=1:\n",
    "            MaxFail_ci = ci\n",
    "            MaxFail = Topologies[ci]['MaxFail']\n",
    "        if Topologies[ci]['y'] != 1:\n",
    "            Topologies[ci]['y'] = -1\n",
    "    Topologies[MaxFail_ci]['y'] = 1\n",
    "    Topologies[MaxFail_ci]['root_cause'] = platform_fault['service']\n",
    "    Topologies[MaxFail_ci]['root_cause_type'] = 'platform_fault'\n",
    "    print(MaxFail_ci)"
   ]
  },
  {
   "cell_type": "markdown",
   "metadata": {},
   "source": [
    "# LABEL RULE 2:"
   ]
  },
  {
   "cell_type": "markdown",
   "metadata": {},
   "source": [
    "## The faults of these two services would not affect the key functionality since a degrade policy is implemented for them."
   ]
  },
  {
   "cell_type": "code",
   "execution_count": 9,
   "metadata": {},
   "outputs": [],
   "source": [
    "for topo in Topologies:\n",
    "    if topo['y'] == 1 and (topo['root_cause'] == 'adservice' or topo['root_cause'] == 'emailservice'):\n",
    "        topo['y'] = 0"
   ]
  },
  {
   "cell_type": "code",
   "execution_count": 10,
   "metadata": {},
   "outputs": [
    {
     "data": {
      "text/plain": [
       "-1    20012\n",
       " 0     5417\n",
       " 1      703\n",
       "dtype: int64"
      ]
     },
     "execution_count": 10,
     "metadata": {},
     "output_type": "execute_result"
    }
   ],
   "source": [
    "pd.Series([topo['y'] for topo in Topologies]).value_counts()"
   ]
  },
  {
   "cell_type": "markdown",
   "metadata": {},
   "source": [
    "# LABEL RULE 3:"
   ]
  },
  {
   "cell_type": "markdown",
   "metadata": {},
   "source": [
    "## Some performance issues take a little effect when the system is under a low workload (e.g, at 00:00 - 06:00) so they are not considered as incidents"
   ]
  },
  {
   "cell_type": "code",
   "execution_count": 11,
   "metadata": {},
   "outputs": [],
   "source": [
    "for topo in Topologies:\n",
    "    if topo['y'] == 1 and (topo['root_cause_type'] == 'cpu' or topo['root_cause_type'] == 'latency') and topo['MaxFail']<50:\n",
    "        topo['y'] = 0"
   ]
  },
  {
   "cell_type": "code",
   "execution_count": 12,
   "metadata": {},
   "outputs": [
    {
     "data": {
      "text/plain": [
       "-1    20012\n",
       " 0     5494\n",
       " 1      626\n",
       "dtype: int64"
      ]
     },
     "execution_count": 12,
     "metadata": {},
     "output_type": "execute_result"
    }
   ],
   "source": [
    "pd.Series([topo['y'] for topo in Topologies]).value_counts()"
   ]
  },
  {
   "cell_type": "code",
   "execution_count": 13,
   "metadata": {},
   "outputs": [],
   "source": [
    "with open('../data/issue_topoloies.pkl', 'wb') as f:\n",
    "    pickle.dump(Topologies, f)"
   ]
  },
  {
   "cell_type": "code",
   "execution_count": null,
   "metadata": {},
   "outputs": [],
   "source": []
  },
  {
   "cell_type": "code",
   "execution_count": null,
   "metadata": {},
   "outputs": [],
   "source": []
  },
  {
   "cell_type": "code",
   "execution_count": null,
   "metadata": {},
   "outputs": [],
   "source": []
  }
 ],
 "metadata": {
  "kernelspec": {
   "display_name": "Python 3",
   "language": "python",
   "name": "python3"
  },
  "language_info": {
   "codemirror_mode": {
    "name": "ipython",
    "version": 3
   },
   "file_extension": ".py",
   "mimetype": "text/x-python",
   "name": "python",
   "nbconvert_exporter": "python",
   "pygments_lexer": "ipython3",
   "version": "3.7.6"
  }
 },
 "nbformat": 4,
 "nbformat_minor": 4
}
